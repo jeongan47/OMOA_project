{
 "cells": [
  {
   "cell_type": "code",
   "execution_count": 1,
   "id": "f739b2d4-2ca1-4f76-9f2b-5440bd1d4611",
   "metadata": {},
   "outputs": [
    {
     "name": "stdout",
     "output_type": "stream",
     "text": [
      "  content_name                                content_description  \\\n",
      "0          어른들  아직 상태가 &#x27;좋지도&#x27; 않고 &#x27;사람&#x27;도 아니지만...   \n",
      "1       랜섬 캐니언  여기는 텍사스에 있는 작은 마을. 농장을 운영하는 세 가문이 자신들의 땅과 유산, ...   \n",
      "2  장고: 분노의 추적자  흑인 노예 장고는 착한 사마리아인 같은 독일인 현금사냥꾼 닥터 킹의 도움을 받아 멋...   \n",
      "3       폭군의 셰프  조선 시대로 타임슬립한 천재 셰프. 무소불위의 폭군을 현대식 요리로 사로잡지만, 그...   \n",
      "\n",
      "                                         content_act  \\\n",
      "0  Malik Elassal, Lucy Freyer, Jack Innanen, Amit...   \n",
      "1  Josh Duhamel, Minka Kelly, Eoin Macken, Lizzy ...   \n",
      "2  Jamie Foxx, Christoph Waltz, Leonardo DiCaprio...   \n",
      "3  Yoona, Lee Chae-min, Kang Hanna, Choi Gwi-hwa,...   \n",
      "\n",
      "                                         content_dir  \\\n",
      "0  Anu Valia, Jason Woliner, Stefani Robinson, Jo...   \n",
      "1                                                NaN   \n",
      "2                                  Quentin Tarantino   \n",
      "3                                       Jang Tae-yoo   \n",
      "\n",
      "                          content_ott          content_genre  \\\n",
      "0                         Disney Plus                    코미디   \n",
      "1  Netflix, Netflix Standard with Ads           서부, 드라마, 로맨스   \n",
      "2                       wavve, Watcha           드라마, 서부, 코미디   \n",
      "3  Netflix, Netflix Standard with Ads  SF, 드라마, 로맨스, 판타지, 역사   \n",
      "\n",
      "                                          post_image content_year  \n",
      "0  https://images.justwatch.com/poster/333259649/...         2025  \n",
      "1  https://images.justwatch.com/poster/330417803/...         2025  \n",
      "2  https://images.justwatch.com/poster/336231166/...   2012-12-25  \n",
      "3  https://images.justwatch.com/poster/335853113/...         2025  \n"
     ]
    }
   ],
   "source": [
    "import pandas as pd\n",
    "\n",
    "filename = 'mini.xlsx'\n",
    "\n",
    "df_excel = pd.read_excel(filename)\n",
    "\n",
    "print(df_excel)"
   ]
  },
  {
   "cell_type": "code",
   "execution_count": 4,
   "id": "7b878ccc-e551-4432-9245-96d37eb9d1c6",
   "metadata": {},
   "outputs": [
    {
     "ename": "ModuleNotFoundError",
     "evalue": "No module named 'order'",
     "output_type": "error",
     "traceback": [
      "\u001b[1;31m---------------------------------------------------------------------------\u001b[0m",
      "\u001b[1;31mModuleNotFoundError\u001b[0m                       Traceback (most recent call last)",
      "Cell \u001b[1;32mIn[4], line 4\u001b[0m\n\u001b[0;32m      1\u001b[0m \u001b[38;5;28;01mimport\u001b[39;00m\u001b[38;5;250m \u001b[39m\u001b[38;5;21;01mopenpyxl\u001b[39;00m\n\u001b[0;32m      2\u001b[0m \u001b[38;5;28;01mimport\u001b[39;00m\u001b[38;5;250m \u001b[39m\u001b[38;5;21;01mos\u001b[39;00m\n\u001b[1;32m----> 4\u001b[0m \u001b[38;5;28;01mfrom\u001b[39;00m\u001b[38;5;250m \u001b[39m\u001b[38;5;21;01morder\u001b[39;00m\u001b[38;5;21;01m.\u001b[39;00m\u001b[38;5;21;01mmodels\u001b[39;00m\u001b[38;5;250m \u001b[39m\u001b[38;5;28;01mimport\u001b[39;00m Order\n\u001b[0;32m      5\u001b[0m \u001b[38;5;28;01mfrom\u001b[39;00m\u001b[38;5;250m \u001b[39m\u001b[38;5;21;01mcore\u001b[39;00m\u001b[38;5;21;01m.\u001b[39;00m\u001b[38;5;21;01mmodels\u001b[39;00m\u001b[38;5;250m \u001b[39m\u001b[38;5;28;01mimport\u001b[39;00m Location\n\u001b[0;32m      6\u001b[0m \u001b[38;5;28;01mfrom\u001b[39;00m\u001b[38;5;250m \u001b[39m\u001b[38;5;21;01mproduct\u001b[39;00m\u001b[38;5;21;01m.\u001b[39;00m\u001b[38;5;21;01mmodels\u001b[39;00m\u001b[38;5;250m \u001b[39m\u001b[38;5;28;01mimport\u001b[39;00m ProductCode\n",
      "\u001b[1;31mModuleNotFoundError\u001b[0m: No module named 'order'"
     ]
    }
   ],
   "source": [
    "import openpyxl\n",
    "import os\n",
    "\n",
    "from order.models import Order\n",
    "from core.models import Location\n",
    "from product.models import ProductCode\n",
    "\n"
   ]
  }
 ],
 "metadata": {
  "kernelspec": {
   "display_name": "Python 3 (ipykernel)",
   "language": "python",
   "name": "python3"
  },
  "language_info": {
   "codemirror_mode": {
    "name": "ipython",
    "version": 3
   },
   "file_extension": ".py",
   "mimetype": "text/x-python",
   "name": "python",
   "nbconvert_exporter": "python",
   "pygments_lexer": "ipython3",
   "version": "3.13.5"
  }
 },
 "nbformat": 4,
 "nbformat_minor": 5
}
